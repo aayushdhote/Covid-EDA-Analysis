{
  "nbformat": 4,
  "nbformat_minor": 0,
  "metadata": {
    "colab": {
      "private_outputs": true,
      "provenance": [],
      "authorship_tag": "ABX9TyNPo7fcm8UhORJOYu71zGNg",
      "include_colab_link": true
    },
    "kernelspec": {
      "name": "python3",
      "display_name": "Python 3"
    },
    "language_info": {
      "name": "python"
    }
  },
  "cells": [
    {
      "cell_type": "markdown",
      "metadata": {
        "id": "view-in-github",
        "colab_type": "text"
      },
      "source": [
        "<a href=\"https://colab.research.google.com/github/aayushdhote/Covid-EDA-Analysis/blob/main/Covid_EDA_Analysis.ipynb\" target=\"_parent\"><img src=\"https://colab.research.google.com/assets/colab-badge.svg\" alt=\"Open In Colab\"/></a>"
      ]
    },
    {
      "cell_type": "markdown",
      "source": [
        "Import libraries"
      ],
      "metadata": {
        "id": "_O_V5_IxWd_e"
      }
    },
    {
      "cell_type": "code",
      "execution_count": null,
      "metadata": {
        "id": "spac2XU7TMyg"
      },
      "outputs": [],
      "source": [
        "import pandas as pd\n",
        "import numpy as np\n",
        "import matplotlib.pyplot as plt\n",
        "import seaborn as sns"
      ]
    },
    {
      "cell_type": "markdown",
      "source": [
        "load the data"
      ],
      "metadata": {
        "id": "7yVD9Lm8Wuk-"
      }
    },
    {
      "cell_type": "code",
      "source": [
        "data = pd.read_csv('/content/current-covid-data.csv')"
      ],
      "metadata": {
        "id": "KWPPQqfyTb6D"
      },
      "execution_count": null,
      "outputs": []
    },
    {
      "cell_type": "markdown",
      "source": [
        "Observe the data"
      ],
      "metadata": {
        "id": "AHdyaiA8W1Up"
      }
    },
    {
      "cell_type": "code",
      "source": [
        "data.head(9)"
      ],
      "metadata": {
        "id": "nsDee6EIUGWo"
      },
      "execution_count": null,
      "outputs": []
    },
    {
      "cell_type": "code",
      "source": [
        "data.tail()"
      ],
      "metadata": {
        "id": "ZPZsh7wTUSLh"
      },
      "execution_count": null,
      "outputs": []
    },
    {
      "cell_type": "code",
      "source": [
        "data.info()"
      ],
      "metadata": {
        "id": "NVwzrIvfUSIS"
      },
      "execution_count": null,
      "outputs": []
    },
    {
      "cell_type": "code",
      "source": [
        "data.shape"
      ],
      "metadata": {
        "id": "51lceQYIUSE8"
      },
      "execution_count": null,
      "outputs": []
    },
    {
      "cell_type": "markdown",
      "source": [
        "Finding null Values"
      ],
      "metadata": {
        "id": "Yo97cUvazhKT"
      }
    },
    {
      "cell_type": "code",
      "source": [
        "data.isnull().sum()"
      ],
      "metadata": {
        "id": "l5IWP2iEUSBt"
      },
      "execution_count": null,
      "outputs": []
    },
    {
      "cell_type": "markdown",
      "source": [
        "###2 Understanding Your Variable"
      ],
      "metadata": {
        "id": "x1kQXMifYbJu"
      }
    },
    {
      "cell_type": "code",
      "source": [
        "# Dataset Columns\n",
        "list(data.columns)"
      ],
      "metadata": {
        "id": "1lEOALYQVh29"
      },
      "execution_count": null,
      "outputs": []
    },
    {
      "cell_type": "code",
      "source": [
        "# Dataset Describe\n",
        "data.describe(include='all')"
      ],
      "metadata": {
        "id": "LT394HZDVhzJ"
      },
      "execution_count": null,
      "outputs": []
    },
    {
      "cell_type": "code",
      "source": [
        "# Check Unique Values for each variable.\n",
        "for i in data.columns.tolist():\n",
        "  print(\"No. of unique values in \",i,\"is\",data[i].nunique(),\".\")"
      ],
      "metadata": {
        "id": "j1iFVzXoVhwO"
      },
      "execution_count": null,
      "outputs": []
    },
    {
      "cell_type": "markdown",
      "source": [
        "Data Wrangling"
      ],
      "metadata": {
        "id": "ZgXIN0gdY0gO"
      }
    },
    {
      "cell_type": "code",
      "source": [
        "# Create a copy of data\n",
        "dataset=data.copy()"
      ],
      "metadata": {
        "id": "Eml-86yDVhtQ"
      },
      "execution_count": null,
      "outputs": []
    },
    {
      "cell_type": "code",
      "source": [
        "# Analysing the null value\n",
        "dataset.isnull().sum()"
      ],
      "metadata": {
        "id": "jq7jLCpDVhqP"
      },
      "execution_count": null,
      "outputs": []
    },
    {
      "cell_type": "code",
      "source": [
        "# Analysing the null value in percentage\n",
        "(dataset.isnull().sum()/ len(dataset))*100"
      ],
      "metadata": {
        "id": "pQWhQyRCZKMa"
      },
      "execution_count": null,
      "outputs": []
    },
    {
      "cell_type": "markdown",
      "source": [
        "Droping Unwanted and high number of null values columns"
      ],
      "metadata": {
        "id": "mISRzV-rzsv_"
      }
    },
    {
      "cell_type": "code",
      "source": [
        "#  Dropping columns because of incomplete data.\n",
        "\n",
        "dataset.drop([\"icu_patients\",\"icu_patients_per_million\",\"hosp_patients\",\"hosp_patients_per_million\",\"weekly_icu_admissions\",\"weekly_icu_admissions_per_million\",\"weekly_hosp_admissions\",\"weekly_hosp_admissions_per_million\",\"new_tests\",\"total_tests\",\"total_tests_per_thousand\",\"new_tests_per_thousand\",\"new_tests_smoothed\",\"new_tests_smoothed_per_thousand\",\"positive_rate\",\"tests_per_case\",\"tests_units\",\"total_vaccinations\",\"total_vaccinations_per_hundred\",\"extreme_poverty\",\"female_smokers\",\"male_smokers\",\"handwashing_facilities\"],inplace=True,axis=1)\n"
      ],
      "metadata": {
        "id": "91XDGsGSZKI8"
      },
      "execution_count": null,
      "outputs": []
    },
    {
      "cell_type": "code",
      "source": [
        "dataset.info()"
      ],
      "metadata": {
        "id": "mEI_PUynZKGS"
      },
      "execution_count": null,
      "outputs": []
    },
    {
      "cell_type": "code",
      "source": [
        "dataset.isnull().sum()"
      ],
      "metadata": {
        "id": "XMshd0m5ZKDR"
      },
      "execution_count": null,
      "outputs": []
    },
    {
      "cell_type": "markdown",
      "source": [
        "Calculating null Values in percentage"
      ],
      "metadata": {
        "id": "DzbFxuLa0GGY"
      }
    },
    {
      "cell_type": "code",
      "source": [
        "(dataset.isnull().sum()/ len(dataset))*100"
      ],
      "metadata": {
        "id": "PJEXgyu_ZKAn"
      },
      "execution_count": null,
      "outputs": []
    },
    {
      "cell_type": "code",
      "source": [
        "dataset.head()"
      ],
      "metadata": {
        "id": "xU40duwKZJ9z"
      },
      "execution_count": null,
      "outputs": []
    },
    {
      "cell_type": "markdown",
      "source": [
        "Filling the null values"
      ],
      "metadata": {
        "id": "0sJo2QGF0NTb"
      }
    },
    {
      "cell_type": "code",
      "source": [
        "total_deaths_median = dataset['total_deaths'].median()\n",
        "dataset.fillna({\"total_deaths\": total_deaths_median},inplace=True)"
      ],
      "metadata": {
        "id": "RBgE85v8ZJ7d"
      },
      "execution_count": null,
      "outputs": []
    },
    {
      "cell_type": "code",
      "source": [
        "new_deaths_median = dataset['new_deaths'].median()\n",
        "dataset.fillna({\"new_deaths\": new_deaths_median},inplace=True)"
      ],
      "metadata": {
        "id": "JrYsZRxVZJ5s"
      },
      "execution_count": null,
      "outputs": []
    },
    {
      "cell_type": "code",
      "source": [
        "stringency_index_median = dataset['stringency_index'].median()\n",
        "dataset.fillna({\"stringency_index\": stringency_index_median},inplace=True)"
      ],
      "metadata": {
        "id": "6P8iX1rCZJzG"
      },
      "execution_count": null,
      "outputs": []
    },
    {
      "cell_type": "code",
      "source": [
        "median_age_median = dataset['median_age'].median()\n",
        "dataset.fillna({\"median_age\": median_age_median},inplace=True)"
      ],
      "metadata": {
        "id": "5J9CVKpdZJwK"
      },
      "execution_count": null,
      "outputs": []
    },
    {
      "cell_type": "code",
      "source": [
        "#  Dropping columns because of incomplete data.\n",
        "\n",
        "dataset.drop([\"total_deaths_per_million\",\"new_cases_smoothed_per_million\",\"new_deaths_per_million\"],inplace=True,axis=1)\n"
      ],
      "metadata": {
        "id": "gUsoJqRsqiDl"
      },
      "execution_count": null,
      "outputs": []
    },
    {
      "cell_type": "code",
      "source": [
        "\n",
        "dataset.drop([\"new_deaths_smoothed_per_million\",\"new_deaths_smoothed_per_million\"],inplace=True,axis=1)\n"
      ],
      "metadata": {
        "id": "QonKjR-arA_F"
      },
      "execution_count": null,
      "outputs": []
    },
    {
      "cell_type": "code",
      "source": [
        "dataset.isnull().sum()"
      ],
      "metadata": {
        "id": "yC66Xu53pvpl"
      },
      "execution_count": null,
      "outputs": []
    },
    {
      "cell_type": "code",
      "source": [
        "new_deaths_smoothed_median = dataset['new_deaths_smoothed'].median()\n",
        "dataset.fillna({\"new_deaths_smoothed\": new_deaths_smoothed_median},inplace=True)"
      ],
      "metadata": {
        "id": "1lg3IA1_l59M"
      },
      "execution_count": null,
      "outputs": []
    },
    {
      "cell_type": "code",
      "source": [
        "cardiovasc_death_rate_median = dataset['cardiovasc_death_rate'].median()\n",
        "dataset.fillna({\"cardiovasc_death_rate\t\": cardiovasc_death_rate_median},inplace=True)"
      ],
      "metadata": {
        "id": "qgOz4PGarxxh"
      },
      "execution_count": null,
      "outputs": []
    },
    {
      "cell_type": "code",
      "source": [
        "dataset.dropna(inplace=True)"
      ],
      "metadata": {
        "id": "0PC2563qrxuX"
      },
      "execution_count": null,
      "outputs": []
    },
    {
      "cell_type": "code",
      "source": [
        "dataset.isnull().sum()"
      ],
      "metadata": {
        "id": "fPctu3-Es-y8"
      },
      "execution_count": null,
      "outputs": []
    },
    {
      "cell_type": "code",
      "source": [
        "dataset.shape"
      ],
      "metadata": {
        "id": "6_rwBMKerxrC"
      },
      "execution_count": null,
      "outputs": []
    },
    {
      "cell_type": "markdown",
      "source": [
        "###Cases in India"
      ],
      "metadata": {
        "id": "LX6n-B0vvqaw"
      }
    },
    {
      "cell_type": "code",
      "source": [
        "ind_data = data[data.iso_code == 'IND']\n",
        "ind_data.head()"
      ],
      "metadata": {
        "id": "S2PZXe_jrxnk"
      },
      "execution_count": null,
      "outputs": []
    },
    {
      "cell_type": "code",
      "source": [
        "sns.distplot(ind_data.new_deaths)\n",
        "plt.show()"
      ],
      "metadata": {
        "id": "8BOLAZCpwBRt"
      },
      "execution_count": null,
      "outputs": []
    },
    {
      "cell_type": "code",
      "source": [
        "sns.distplot(ind_data.new_deaths,color='b',)\n",
        "plt.show()"
      ],
      "metadata": {
        "id": "HnfjInU6wBdz"
      },
      "execution_count": null,
      "outputs": []
    },
    {
      "cell_type": "code",
      "source": [
        "sns.distplot(ind_data.new_cases, color='m')\n",
        "plt.show()"
      ],
      "metadata": {
        "id": "tPb4bdLFwBax"
      },
      "execution_count": null,
      "outputs": []
    },
    {
      "cell_type": "code",
      "source": [
        "dataset.head()"
      ],
      "metadata": {
        "id": "Eye8c7pa1rI8"
      },
      "execution_count": null,
      "outputs": []
    },
    {
      "cell_type": "code",
      "source": [
        "# Group by country and take the max total_cases (latest date per country)\n",
        "country_cases = dataset.groupby('location')['total_cases'].max().sort_values(ascending=False)\n",
        "\n",
        "# Plot\n",
        "plt.figure(figsize=(14, 8))\n",
        "country_cases.plot(kind='bar')\n",
        "plt.title('Total Confirmed COVID-19 Cases by Country')\n",
        "plt.xlabel('Country')\n",
        "plt.ylabel('Total Cases')\n",
        "plt.xticks(rotation=90)\n",
        "plt.tight_layout()\n",
        "plt.show()"
      ],
      "metadata": {
        "id": "rkSLHzuq1ekY"
      },
      "execution_count": null,
      "outputs": []
    },
    {
      "cell_type": "code",
      "source": [
        "# Top 10 countries for better intraction\n",
        "top_countries = dataset.groupby('location')[['total_cases', 'new_cases', 'total_deaths', 'new_deaths']].max()\n",
        "top_countries = top_countries.sort_values('total_cases', ascending=False).head(10)\n",
        "\n",
        "fig, axs = plt.subplots(2, 2, figsize=(16, 10))  # 2 rows, 2 columns\n",
        "\n",
        "# First graph: Total Cases\n",
        "axs[0, 0].bar(top_countries.index, top_countries['total_cases'], color='skyblue')\n",
        "axs[0, 0].set_title('Total Cases')\n",
        "axs[0, 0].tick_params(axis='x', rotation=90)\n",
        "\n",
        "# Second graph: New Case\n",
        "axs[0, 1].bar(top_countries.index, top_countries['new_cases'], color='orange')\n",
        "axs[0, 1].set_title('New Cases (Max)')\n",
        "axs[0, 1].tick_params(axis='x', rotation=90)\n",
        "\n",
        "# Third graph: Total Deaths\n",
        "axs[1, 0].bar(top_countries.index, top_countries['total_deaths'], color='red')\n",
        "axs[1, 0].set_title('Total Deaths')\n",
        "axs[1, 0].tick_params(axis='x', rotation=90)\n",
        "\n",
        "# Fourth graph: New Deaths\n",
        "axs[1, 1].bar(top_countries.index, top_countries['new_deaths'], color='purple')\n",
        "axs[1, 1].set_title('New Deaths (Max)')\n",
        "axs[1, 1].tick_params(axis='x', rotation=90)\n",
        "\n",
        "plt.tight_layout()\n",
        "plt.suptitle('COVID-19 Summary by Country (Top 10)', fontsize=16, y=1.02)\n",
        "plt.show()"
      ],
      "metadata": {
        "id": "g92FM1Yy1egA"
      },
      "execution_count": null,
      "outputs": []
    }
  ]
}